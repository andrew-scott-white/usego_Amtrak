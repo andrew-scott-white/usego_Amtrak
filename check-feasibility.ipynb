{
 "cells": [
  {
   "cell_type": "code",
   "execution_count": 1,
   "metadata": {},
   "outputs": [],
   "source": [
    "import pandas as pd\n",
    "import numpy as np"
   ]
  },
  {
   "cell_type": "code",
   "execution_count": 2,
   "metadata": {},
   "outputs": [
    {
     "name": "stdout",
     "output_type": "stream",
     "text": [
      "        Unnamed: 0         r     t  demandLoad\n",
      "0                0  ERC_REST     1    33450.05\n",
      "1                1  ERC_REST     2    33443.15\n",
      "2                2  ERC_REST     3    33842.20\n",
      "3                3  ERC_REST     4    34583.95\n",
      "4                4  ERC_REST     5    35800.65\n",
      "...            ...       ...   ...         ...\n",
      "534294      534294   WECC_WY  8755     1431.00\n",
      "534295      534295   WECC_WY  8756     1405.00\n",
      "534296      534296   WECC_WY  8757     1355.00\n",
      "534297      534297   WECC_WY  8758     1283.00\n",
      "534298      534298   WECC_WY  8759     1270.00\n",
      "\n",
      "[534299 rows x 4 columns]\n"
     ]
    }
   ],
   "source": [
    "#import data\n",
    "#suffix = 'base'\n",
    "suffix = 'amtk_current'\n",
    "\n",
    "gen = pd.read_csv(f'./inputs/inputs_gen_{suffix}.csv')\n",
    "load = pd.read_csv(f'./inputs/inputs_load_{suffix}.csv')\n",
    "rencf = pd.read_csv(f'./inputs/inputs_renewableCF.csv')\n",
    "trans = pd.read_csv(f'./inputs/inputs_trans_{suffix}.csv')\n",
    "\n",
    "print(load)"
   ]
  },
  {
   "cell_type": "code",
   "execution_count": 3,
   "metadata": {},
   "outputs": [],
   "source": [
    "#create a list of our regions\n",
    "regions = set(load['r'])"
   ]
  },
  {
   "cell_type": "code",
   "execution_count": 4,
   "metadata": {},
   "outputs": [
    {
     "name": "stdout",
     "output_type": "stream",
     "text": [
      "Generation cannot match load in region NY_Z_J\n",
      "442.9857609751016\n"
     ]
    }
   ],
   "source": [
    "#calculate regions where generation > load\n",
    "for reg in regions:\n",
    "    gn = np.zeros((8759,))\n",
    "    gn += gen.loc[(gen['RegionName'] == reg).values * (gen['FuelType'] != 'Solar').values * (gen['FuelType'] != 'Wind').values * (gen['FuelType'] != 'wind_generator').values * (gen['FuelType'] != 'solar_generator').values, 'Capacity'].values.sum()\n",
    "    gn += (gen.loc[(gen['RegionName'] == reg).values * (gen['FuelType'] == 'Solar').values, 'Capacity'].values.sum() * rencf.loc[rencf['r'] == reg, 'solarCF'].values).sum()\n",
    "    gn += (gen.loc[(gen['RegionName'] == reg).values * (gen['FuelType'] == 'solar_generator').values, 'Capacity'].values.sum() * rencf.loc[rencf['r'] == reg, 'solarCF'].values).sum()\n",
    "    gn += (gen.loc[(gen['RegionName'] == reg).values * (gen['FuelType'] == 'Wind').values, 'Capacity'].values.sum() * rencf.loc[rencf['r'] == reg, 'windCF'].values).sum()\n",
    "    gn += (gen.loc[(gen['RegionName'] == reg).values * (gen['FuelType'] == 'wind_generator').values, 'Capacity'].values.sum() * rencf.loc[rencf['r'] == reg, 'windCF'].values).sum()\n",
    "\n",
    "    if (load.loc[load['r'] == reg, 'demandLoad'] > gn).values.sum() > 0:\n",
    "        print(f'Generation cannot match load in region {reg}')\n",
    "        print(max(load.loc[load['r'] == reg, 'demandLoad'] - gn))\n",
    "    "
   ]
  },
  {
   "cell_type": "code",
   "execution_count": 5,
   "metadata": {},
   "outputs": [
    {
     "name": "stdout",
     "output_type": "stream",
     "text": [
      "Nuclear generation 0.0\n",
      "Total generation 9599.0\n",
      "Transmission into the region 10432.476\n",
      "Transmission out of the region 5575\n",
      "Maximum net energy left after use from the region at time 5080 [11833.98461542]\n"
     ]
    }
   ],
   "source": [
    "#find the total generation for the region where generation > load\n",
    " \n",
    "region = 'NY_Z_J' ## select regions from the above\n",
    "t = 5080 \n",
    "\n",
    "print( 'Nuclear generation ' + str(gen.loc[gen['RegionName'] == region].loc[gen['FuelType'] == 'Nuclear','Capacity'].sum()))\n",
    "\n",
    "print( 'Total generation ' + str(gen.loc[gen['RegionName'] == region,'Capacity'].sum()))\n",
    "\n",
    "#look at the transmission into the region where generation > load\n",
    "\n",
    "print( 'Transmission into the region ' + str(trans.loc[(trans['r2'] == region).values * (trans['transCap'] > 1).values, 'transCap'].sum()*.972))\n",
    "\n",
    "print( 'Transmission out of the region ' + str(trans.loc[(trans['r1'] == region).values * (trans['transCap'] > 1).values, 'transCap'].sum()))\n",
    "\n",
    "#find the total amount of energy needed to/from that region if all used\n",
    "\n",
    "print( f'Maximum net energy left after use from the region at time {t} ' + \n",
    "    str(trans.loc[(trans['r2'] == region).values, 'transCap'].sum()*.972 + \n",
    "       gen.loc[gen['RegionName'] == region,'Capacity'].sum() - \n",
    "        trans.loc[(trans['r1'] == region).values, 'transCap'].sum() - \n",
    "       load.loc[(load['r'] == 'NY_Z_GI')].loc[(load['t'] == t)]['demandLoad'].values))"
   ]
  },
  {
   "cell_type": "code",
   "execution_count": 6,
   "metadata": {},
   "outputs": [
    {
     "data": {
      "text/html": [
       "<div>\n",
       "<style scoped>\n",
       "    .dataframe tbody tr th:only-of-type {\n",
       "        vertical-align: middle;\n",
       "    }\n",
       "\n",
       "    .dataframe tbody tr th {\n",
       "        vertical-align: top;\n",
       "    }\n",
       "\n",
       "    .dataframe thead th {\n",
       "        text-align: right;\n",
       "    }\n",
       "</style>\n",
       "<table border=\"1\" class=\"dataframe\">\n",
       "  <thead>\n",
       "    <tr style=\"text-align: right;\">\n",
       "      <th></th>\n",
       "      <th>Unnamed: 0</th>\n",
       "      <th>r</th>\n",
       "      <th>t</th>\n",
       "      <th>demandLoad</th>\n",
       "    </tr>\n",
       "  </thead>\n",
       "  <tbody>\n",
       "    <tr>\n",
       "      <th>188945</th>\n",
       "      <td>188945</td>\n",
       "      <td>NY_Z_J</td>\n",
       "      <td>5007</td>\n",
       "      <td>9600.389745</td>\n",
       "    </tr>\n",
       "    <tr>\n",
       "      <th>188946</th>\n",
       "      <td>188946</td>\n",
       "      <td>NY_Z_J</td>\n",
       "      <td>5008</td>\n",
       "      <td>9715.389745</td>\n",
       "    </tr>\n",
       "    <tr>\n",
       "      <th>188947</th>\n",
       "      <td>188947</td>\n",
       "      <td>NY_Z_J</td>\n",
       "      <td>5009</td>\n",
       "      <td>9683.389745</td>\n",
       "    </tr>\n",
       "    <tr>\n",
       "      <th>189013</th>\n",
       "      <td>189013</td>\n",
       "      <td>NY_Z_J</td>\n",
       "      <td>5075</td>\n",
       "      <td>9826.389745</td>\n",
       "    </tr>\n",
       "    <tr>\n",
       "      <th>189014</th>\n",
       "      <td>189014</td>\n",
       "      <td>NY_Z_J</td>\n",
       "      <td>5076</td>\n",
       "      <td>10085.389745</td>\n",
       "    </tr>\n",
       "    <tr>\n",
       "      <th>189015</th>\n",
       "      <td>189015</td>\n",
       "      <td>NY_Z_J</td>\n",
       "      <td>5077</td>\n",
       "      <td>10262.389745</td>\n",
       "    </tr>\n",
       "    <tr>\n",
       "      <th>189016</th>\n",
       "      <td>189016</td>\n",
       "      <td>NY_Z_J</td>\n",
       "      <td>5078</td>\n",
       "      <td>10364.389745</td>\n",
       "    </tr>\n",
       "    <tr>\n",
       "      <th>189017</th>\n",
       "      <td>189017</td>\n",
       "      <td>NY_Z_J</td>\n",
       "      <td>5079</td>\n",
       "      <td>10432.389745</td>\n",
       "    </tr>\n",
       "    <tr>\n",
       "      <th>189018</th>\n",
       "      <td>189018</td>\n",
       "      <td>NY_Z_J</td>\n",
       "      <td>5080</td>\n",
       "      <td>10359.389745</td>\n",
       "    </tr>\n",
       "    <tr>\n",
       "      <th>189019</th>\n",
       "      <td>189019</td>\n",
       "      <td>NY_Z_J</td>\n",
       "      <td>5081</td>\n",
       "      <td>10222.389745</td>\n",
       "    </tr>\n",
       "    <tr>\n",
       "      <th>189020</th>\n",
       "      <td>189020</td>\n",
       "      <td>NY_Z_J</td>\n",
       "      <td>5082</td>\n",
       "      <td>9973.389745</td>\n",
       "    </tr>\n",
       "    <tr>\n",
       "      <th>189021</th>\n",
       "      <td>189021</td>\n",
       "      <td>NY_Z_J</td>\n",
       "      <td>5083</td>\n",
       "      <td>9625.389745</td>\n",
       "    </tr>\n",
       "    <tr>\n",
       "      <th>189040</th>\n",
       "      <td>189040</td>\n",
       "      <td>NY_Z_J</td>\n",
       "      <td>5102</td>\n",
       "      <td>9689.389745</td>\n",
       "    </tr>\n",
       "    <tr>\n",
       "      <th>189041</th>\n",
       "      <td>189041</td>\n",
       "      <td>NY_Z_J</td>\n",
       "      <td>5103</td>\n",
       "      <td>9795.389745</td>\n",
       "    </tr>\n",
       "    <tr>\n",
       "      <th>189042</th>\n",
       "      <td>189042</td>\n",
       "      <td>NY_Z_J</td>\n",
       "      <td>5104</td>\n",
       "      <td>9861.389745</td>\n",
       "    </tr>\n",
       "    <tr>\n",
       "      <th>189043</th>\n",
       "      <td>189043</td>\n",
       "      <td>NY_Z_J</td>\n",
       "      <td>5105</td>\n",
       "      <td>9791.389745</td>\n",
       "    </tr>\n",
       "    <tr>\n",
       "      <th>189181</th>\n",
       "      <td>189181</td>\n",
       "      <td>NY_Z_J</td>\n",
       "      <td>5243</td>\n",
       "      <td>9678.389745</td>\n",
       "    </tr>\n",
       "    <tr>\n",
       "      <th>189182</th>\n",
       "      <td>189182</td>\n",
       "      <td>NY_Z_J</td>\n",
       "      <td>5244</td>\n",
       "      <td>9830.389745</td>\n",
       "    </tr>\n",
       "    <tr>\n",
       "      <th>189183</th>\n",
       "      <td>189183</td>\n",
       "      <td>NY_Z_J</td>\n",
       "      <td>5245</td>\n",
       "      <td>9947.389745</td>\n",
       "    </tr>\n",
       "    <tr>\n",
       "      <th>189184</th>\n",
       "      <td>189184</td>\n",
       "      <td>NY_Z_J</td>\n",
       "      <td>5246</td>\n",
       "      <td>10057.389745</td>\n",
       "    </tr>\n",
       "    <tr>\n",
       "      <th>189185</th>\n",
       "      <td>189185</td>\n",
       "      <td>NY_Z_J</td>\n",
       "      <td>5247</td>\n",
       "      <td>10185.389745</td>\n",
       "    </tr>\n",
       "    <tr>\n",
       "      <th>189186</th>\n",
       "      <td>189186</td>\n",
       "      <td>NY_Z_J</td>\n",
       "      <td>5248</td>\n",
       "      <td>10235.389745</td>\n",
       "    </tr>\n",
       "    <tr>\n",
       "      <th>189187</th>\n",
       "      <td>189187</td>\n",
       "      <td>NY_Z_J</td>\n",
       "      <td>5249</td>\n",
       "      <td>9863.389745</td>\n",
       "    </tr>\n",
       "  </tbody>\n",
       "</table>\n",
       "</div>"
      ],
      "text/plain": [
       "        Unnamed: 0       r     t    demandLoad\n",
       "188945      188945  NY_Z_J  5007   9600.389745\n",
       "188946      188946  NY_Z_J  5008   9715.389745\n",
       "188947      188947  NY_Z_J  5009   9683.389745\n",
       "189013      189013  NY_Z_J  5075   9826.389745\n",
       "189014      189014  NY_Z_J  5076  10085.389745\n",
       "189015      189015  NY_Z_J  5077  10262.389745\n",
       "189016      189016  NY_Z_J  5078  10364.389745\n",
       "189017      189017  NY_Z_J  5079  10432.389745\n",
       "189018      189018  NY_Z_J  5080  10359.389745\n",
       "189019      189019  NY_Z_J  5081  10222.389745\n",
       "189020      189020  NY_Z_J  5082   9973.389745\n",
       "189021      189021  NY_Z_J  5083   9625.389745\n",
       "189040      189040  NY_Z_J  5102   9689.389745\n",
       "189041      189041  NY_Z_J  5103   9795.389745\n",
       "189042      189042  NY_Z_J  5104   9861.389745\n",
       "189043      189043  NY_Z_J  5105   9791.389745\n",
       "189181      189181  NY_Z_J  5243   9678.389745\n",
       "189182      189182  NY_Z_J  5244   9830.389745\n",
       "189183      189183  NY_Z_J  5245   9947.389745\n",
       "189184      189184  NY_Z_J  5246  10057.389745\n",
       "189185      189185  NY_Z_J  5247  10185.389745\n",
       "189186      189186  NY_Z_J  5248  10235.389745\n",
       "189187      189187  NY_Z_J  5249   9863.389745"
      ]
     },
     "execution_count": 6,
     "metadata": {},
     "output_type": "execute_result"
    }
   ],
   "source": [
    "#find what time stamps are associated with demand > capacity \n",
    "#(we will go back and manually change our load based on this, assuming some of the region blacks out)\n",
    "load.loc[load['r'] == region].loc[load['t'].isin(range(5001,6000))].loc[load['demandLoad'] >= gen.loc[gen['RegionName'] == region,'Capacity'].sum()]"
   ]
  },
  {
   "cell_type": "code",
   "execution_count": 7,
   "metadata": {},
   "outputs": [
    {
     "name": "stdout",
     "output_type": "stream",
     "text": [
      "Solar generation 10842.0\n",
      "Wind generation 68058.0\n"
     ]
    }
   ],
   "source": [
    "print( 'Solar generation ' + str(gen.loc[gen['FuelType'] == 'Solar','Capacity'].sum()))\n",
    "\n",
    "print( 'Wind generation ' + str(gen.loc[gen['FuelType'] == 'Wind','Capacity'].sum()))\n"
   ]
  },
  {
   "cell_type": "code",
   "execution_count": 8,
   "metadata": {},
   "outputs": [
    {
     "data": {
      "text/plain": [
       "np.float64(10.842)"
      ]
     },
     "execution_count": 8,
     "metadata": {},
     "output_type": "execute_result"
    }
   ],
   "source": [
    "(gen.loc[gen['FuelType'] == 'Solar','Capacity'].sum() + gen.loc[gen['FuelType'] == 'solar_generator','Capacity'].sum())/1000"
   ]
  },
  {
   "cell_type": "code",
   "execution_count": null,
   "metadata": {},
   "outputs": [],
   "source": []
  },
  {
   "cell_type": "code",
   "execution_count": null,
   "metadata": {},
   "outputs": [],
   "source": []
  },
  {
   "cell_type": "code",
   "execution_count": null,
   "metadata": {},
   "outputs": [],
   "source": []
  },
  {
   "cell_type": "code",
   "execution_count": null,
   "metadata": {},
   "outputs": [],
   "source": []
  },
  {
   "cell_type": "code",
   "execution_count": null,
   "metadata": {},
   "outputs": [],
   "source": []
  },
  {
   "cell_type": "code",
   "execution_count": null,
   "metadata": {},
   "outputs": [],
   "source": []
  },
  {
   "cell_type": "code",
   "execution_count": null,
   "metadata": {},
   "outputs": [],
   "source": []
  },
  {
   "cell_type": "code",
   "execution_count": null,
   "metadata": {},
   "outputs": [],
   "source": []
  },
  {
   "cell_type": "code",
   "execution_count": null,
   "metadata": {},
   "outputs": [],
   "source": []
  },
  {
   "cell_type": "code",
   "execution_count": null,
   "metadata": {},
   "outputs": [],
   "source": []
  },
  {
   "cell_type": "code",
   "execution_count": null,
   "metadata": {},
   "outputs": [],
   "source": []
  },
  {
   "cell_type": "code",
   "execution_count": null,
   "metadata": {},
   "outputs": [],
   "source": []
  },
  {
   "cell_type": "code",
   "execution_count": null,
   "metadata": {},
   "outputs": [],
   "source": []
  },
  {
   "cell_type": "code",
   "execution_count": null,
   "metadata": {},
   "outputs": [],
   "source": []
  }
 ],
 "metadata": {
  "kernelspec": {
   "display_name": "usego_nb",
   "language": "python",
   "name": "usego_nb"
  },
  "language_info": {
   "codemirror_mode": {
    "name": "ipython",
    "version": 3
   },
   "file_extension": ".py",
   "mimetype": "text/x-python",
   "name": "python",
   "nbconvert_exporter": "python",
   "pygments_lexer": "ipython3",
   "version": "3.13.2"
  },
  "toc": {
   "base_numbering": 1,
   "nav_menu": {},
   "number_sections": true,
   "sideBar": true,
   "skip_h1_title": false,
   "title_cell": "Table of Contents",
   "title_sidebar": "Contents",
   "toc_cell": false,
   "toc_position": {},
   "toc_section_display": true,
   "toc_window_display": false
  }
 },
 "nbformat": 4,
 "nbformat_minor": 4
}
