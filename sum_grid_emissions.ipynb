{
 "cells": [
  {
   "cell_type": "code",
   "execution_count": 1,
   "metadata": {},
   "outputs": [],
   "source": [
    "import xarray as xr\n",
    "import numpy as np\n",
    "import pandas as pd\n",
    "import dask\n",
    "import feather, h5py, sys, pickle\n",
    "#from timezonefinder import TimezoneFinder\n",
    "from pytz import timezone\n",
    "import pytz, os, datetime, netCDF4"
   ]
  },
  {
   "cell_type": "code",
   "execution_count": 2,
   "metadata": {},
   "outputs": [],
   "source": [
    "redo_opt_output = True\n",
    "run_name = 'amtk_current'\n",
    "data_path = f'~/us_ego/annual_emissions/inventory_power_plants_scaled_{run_name}_noNaN_test.nc'\n",
    "\n",
    "if redo_opt_output == False:\n",
    "    # open dataset\n",
    "    ds = xr.open_dataset(data_path, chunks={'time': 100})  # or chunk on spatial dims\n",
    "    print(ds)"
   ]
  },
  {
   "cell_type": "code",
   "execution_count": 3,
   "metadata": {},
   "outputs": [],
   "source": [
    "#run_name = 'base'\n",
    "run_name = 'amtk_current'"
   ]
  },
  {
   "cell_type": "code",
   "execution_count": 4,
   "metadata": {},
   "outputs": [
    {
     "name": "stdout",
     "output_type": "stream",
     "text": [
      "data loaded\n"
     ]
    }
   ],
   "source": [
    "if redo_opt_output == True:\n",
    "    # Get power model output and merge with power plant characteristics\n",
    "    gen = feather.read_dataframe(f'./outputs/gen_{run_name}.feather')\n",
    "    carac = pd.read_csv(f'./inputs/inputs_gen_{run_name}.csv')\n",
    "    print('data loaded')"
   ]
  },
  {
   "cell_type": "code",
   "execution_count": 5,
   "metadata": {},
   "outputs": [],
   "source": [
    "if redo_opt_output == True:\n",
    "    # Clean columns name\n",
    "    carac = carac.drop('Unnamed: 0', axis=1)\n",
    "\n",
    "    # Merge\n",
    "    opt_out = pd.concat((carac,gen), axis=1)\n",
    "    unit_regions = opt_out['RegionName']\n",
    "\n",
    "    # Add the missing final hour\n",
    "    opt_out['2016_365_23'] = opt_out['2016_365_22'].copy()\n",
    "\n",
    "    # Compute grid indices of all generators on NEI grid\n",
    "    startlat = 20.05\n",
    "    startlon = -139.95\n",
    "    step = 0.1\n",
    "    opt_out['idxLat'] = np.floor((opt_out['LAT'].values - startlat)/step).astype(int)\n",
    "    opt_out['idxLon'] = np.floor((opt_out['LON'].values - startlon)/step).astype(int)\n"
   ]
  },
  {
   "cell_type": "code",
   "execution_count": 6,
   "metadata": {},
   "outputs": [],
   "source": [
    "if redo_opt_output == True:\n",
    "        #Check that all values are within grid limits\n",
    "    if (opt_out['idxLat'] < 0).sum() + (opt_out['idxLat'] > 400).sum() +\\\n",
    "        (opt_out['idxLon'] < 0).sum() + (opt_out['idxLon'] > 900).sum() != 0:\n",
    "        raise ValueError('Some generators are outside grid limits')"
   ]
  },
  {
   "cell_type": "code",
   "execution_count": 7,
   "metadata": {},
   "outputs": [
    {
     "name": "stdout",
     "output_type": "stream",
     "text": [
      "NENG_CT ...\n",
      "...done!\n",
      "NENGREST ...\n",
      "...done!\n",
      "NY_Z_GI ...\n",
      "...done!\n",
      "NY_Z_J ...\n",
      "...done!\n",
      "NY_Z_K ...\n",
      "...done!\n",
      "PJM_Dom ...\n",
      "...done!\n",
      "PJM_EMAC ...\n",
      "...done!\n",
      "PJM_SMAC ...\n",
      "...done!\n",
      "PJM_WMAC ...\n",
      "...done!\n"
     ]
    }
   ],
   "source": [
    "if redo_opt_output == True:\n",
    "    base_load = pd.read_csv('~/us_ego/inputs/inputs_load.csv') # MWh\n",
    "    amtk_load = pd.read_csv(f'~/us_ego/inputs/inputs_load_{run_name}.csv') # MWh\n",
    "\n",
    "    del_load = amtk_load['demandLoad'] - base_load['demandLoad'] # load attributable to Amtrak\n",
    "\n",
    "    mask = del_load != 0\n",
    "    del_load = del_load[mask]\n",
    "    range_idx = del_load.index\n",
    "\n",
    "    # open existing file; amtrak load + base load grid emissions\n",
    "    path='~/us_ego/annual_emissions/'\n",
    "    name =f'inventory_power_plants_{run_name}.nc'\n",
    "    base_name = f'inventory_power_plants_base.nc'\n",
    "    amtrak_grid_emissions = xr.open_dataset(path+name, engine=\"netcdf4\")\n",
    "    base_grid_emissions = xr.open_dataset(path+base_name, engine=\"netcdf4\")\n",
    "\n",
    "    # Using Dask for large arrays\n",
    "    amtrak_grid_chunked = amtrak_grid_emissions.chunk({\"time\": 100})  \n",
    "    base_grid_chunked = base_grid_emissions.chunk({\"time\": 100})  \n",
    "\n",
    "    amtrak_grid = amtrak_grid_chunked.fillna(0)\n",
    "    base_grid = base_grid_chunked.fillna(0)\n",
    "\n",
    "    #print('Base NOx emissions:',(np.sum(base_grid[\"NO\"].values)+np.sum(base_grid[\"NO2\"].values))*3600*123210000/1000/1000,'Tg/yr') # Tg/yr\n",
    "    #print('Amtrak+base NOx emissions:',(np.sum(amtrak_grid['NO'].values)+np.sum(amtrak_grid['NO2'].values))*3600*123210000/1000/1000,'Tg/yr') # Tg/yr\n",
    "    phi_region = []\n",
    "    for ii in range_idx:\n",
    "        if amtk_load['r'][ii] not in phi_region:\n",
    "            phi_region.append(amtk_load['r'][ii])\n",
    "\n",
    "    hours = amtk_load['t'].unique()\n",
    "\n",
    "    # initialize array of hourly scaling values\n",
    "    phi_array = np.zeros((len(hours),len(phi_region)))\n",
    "    kk = 0 # region index\n",
    "    jj = 0 # hour index\n",
    "\n",
    "    for kk in range(len(phi_region)):\n",
    "        print(phi_region[kk],'...')\n",
    "        amtk_load_hour = amtk_load.loc[(amtk_load['r']==phi_region[kk]),'demandLoad'].values\n",
    "        base_load_hour = base_load.loc[(base_load['r']==phi_region[kk]),'demandLoad'].values\n",
    "        phi_array[:,kk] = np.divide(np.subtract(amtk_load_hour,base_load_hour),amtk_load_hour) # calculates the fraction of grid power used by Amtrak at each hour in each region\n",
    "        print('...done!')\n",
    "\n",
    "    phi_array = np.vstack([phi_array, phi_array[-1]])"
   ]
  },
  {
   "cell_type": "code",
   "execution_count": 8,
   "metadata": {},
   "outputs": [
    {
     "name": "stdout",
     "output_type": "stream",
     "text": [
      "[1.69199913e-03 5.56362227e-04 2.81928662e-04 2.64090167e-04\n",
      " 2.20526192e-04 2.35729394e-05 2.12151336e-03 1.31448392e-03\n",
      " 2.29355094e-06]\n",
      "[1.69199913e-03 5.56362227e-04 2.81928662e-04 2.64090167e-04\n",
      " 2.20526192e-04 2.35729394e-05 2.12151336e-03 1.31448392e-03\n",
      " 2.29355094e-06]\n"
     ]
    }
   ],
   "source": [
    "if redo_opt_output == True:\n",
    "    print(phi_array[8758,:])\n",
    "    print(phi_array[8759,:])"
   ]
  },
  {
   "cell_type": "code",
   "execution_count": 9,
   "metadata": {},
   "outputs": [
    {
     "name": "stdout",
     "output_type": "stream",
     "text": [
      "8760\n",
      "['NENG_CT', 'NENGREST', 'NY_Z_GI', 'NY_Z_J', 'NY_Z_K', 'PJM_Dom', 'PJM_EMAC', 'PJM_SMAC', 'PJM_WMAC']\n"
     ]
    }
   ],
   "source": [
    "if redo_opt_output == True:\n",
    "    print(len(phi_array))\n",
    "    print(phi_region)"
   ]
  },
  {
   "cell_type": "code",
   "execution_count": 10,
   "metadata": {},
   "outputs": [
    {
     "name": "stdout",
     "output_type": "stream",
     "text": [
      "        Unnamed: 0         r  t  demandLoad\n",
      "0                0  ERC_REST  1     29087.0\n",
      "8759          8759  ERC_WEST  1      2655.0\n",
      "17518        17518      FRCC  1     17709.0\n",
      "26277        26277  MAP_WAUE  1      2551.0\n",
      "35036        35036    MIS_IA  1      2332.0\n",
      "...            ...       ... ..         ...\n",
      "490504      490504  WECC_SCE  1     10605.0\n",
      "499263      499263   WECC_SF  1       542.0\n",
      "508022      508022  WECC_SNV  1      2196.0\n",
      "516781      516781   WECC_UT  1      4050.0\n",
      "525540      525540   WECC_WY  1      1356.0\n",
      "\n",
      "[61 rows x 4 columns]\n"
     ]
    }
   ],
   "source": [
    "if redo_opt_output == True:\n",
    "    #print(amtk_load['r'].unique())\n",
    "    print(amtk_load[amtk_load['t']==1])"
   ]
  },
  {
   "cell_type": "code",
   "execution_count": 62,
   "metadata": {},
   "outputs": [],
   "source": [
    "def process_emissions(species_abbrev, NO = False, NO2 = False):\n",
    "    \"\"\"\n",
    "    Process emissions of NO, NO2, SO2, CH4 and CO2 by multiplying the emissions factor times the generation (output in kg/s)\n",
    "    initial data in: $MWH/3600sec -> MW/s -> * kg/MW -> kg/s$\n",
    "    \"\"\"\n",
    "    emis_df = pd.DataFrame(data=opt_out[f'PL{species_abbrev}RTA'].values.reshape(len(opt_out.index),1) * opt_out[[f'2016_{day}_{hour}' for day in range(1,366) for hour in range(24)]] / 3600)\n",
    "    print(emis_df)\n",
    "    emis_df['idxLat'] = opt_out['idxLat'].astype(int)\n",
    "    emis_df['idxLon'] = opt_out['idxLon'].astype(int)\n",
    "    emis_df['StateName'] = opt_out['StateName']\n",
    "    if NO == True:\n",
    "        mult = 0.8544304 # NO/NOx as estimated from NEI2011 inventory\n",
    "    elif NO2 == True:\n",
    "        mult = 1 - 0.8544304 # NO2/NOx as estimated from NEI2011 inventory\n",
    "    else:\n",
    "        mult = 1 # multiply by one to keep the same value if not NO or NO2\n",
    "\n",
    "    for day in range(1, 366):\n",
    "        for hour in range(24):\n",
    "            jj = (day-1)*24 + hour \n",
    "            col_name = f'2016_{day}_{hour}'\n",
    "            for region in unit_regions.unique():\n",
    "                if region in phi_region:\n",
    "                    unit_indexes = unit_regions[unit_regions == region].index\n",
    "                    phi_region_index = phi_region.index(region)\n",
    "                    #print(f'Grid load in {phi_region[phi_region_index]}')\n",
    "                    #if override_phi == True:\n",
    "                    #emis_df.loc[unit_indexes, col_name] *= mult\n",
    "                    #else:\n",
    "                    phi = mult*phi_array[jj,phi_region_index]\n",
    "                    #print(mult,phi_array[jj,phi_region_index],phi)\n",
    "                    emis_df.loc[unit_indexes, col_name] *= phi\n",
    "        \n",
    "                else:\n",
    "                    unit_indexes = unit_regions[unit_regions == region].index\n",
    "                    emis_df.loc[unit_indexes, col_name] = 0\n",
    "            #print(emis_df[col_name])\n",
    "            \n",
    "            #print(unit_regions[unit_regions.isin(phi_region)].index)\n",
    "            #unit_indexes = np.asarray(unit_regions[unit_regions.isin(phi_region)].index)\n",
    "            #print(emis_df[col_name].iloc[unit_indexes])\n",
    "            \n",
    "            #unit_indexes = np.asarray(unit_regions[unit_regions=='NENGREST'].index)\n",
    "            #print(len(emis_df[col_name].iloc[unit_indexes]))\n",
    "    return(emis_df)"
   ]
  },
  {
   "cell_type": "code",
   "execution_count": 63,
   "metadata": {},
   "outputs": [
    {
     "name": "stdout",
     "output_type": "stream",
     "text": [
      "0        ERC_FRNT\n",
      "1        ERC_FRNT\n",
      "2        ERC_FRNT\n",
      "3        ERC_FRNT\n",
      "4        ERC_GWAY\n",
      "           ...   \n",
      "16888    WECC_PNW\n",
      "16889    MIS_WUMS\n",
      "16890    MIS_WUMS\n",
      "16891    MIS_WUMS\n",
      "16892      PJM_AP\n",
      "Name: RegionName, Length: 16893, dtype: object\n"
     ]
    }
   ],
   "source": [
    "print(unit_regions)"
   ]
  },
  {
   "cell_type": "code",
   "execution_count": null,
   "metadata": {},
   "outputs": [],
   "source": []
  },
  {
   "cell_type": "code",
   "execution_count": 64,
   "metadata": {},
   "outputs": [],
   "source": [
    "cell_size = (11.1*1000)**2 # m^2 # corresponds to 0.1° cell resolution"
   ]
  },
  {
   "cell_type": "code",
   "execution_count": 65,
   "metadata": {},
   "outputs": [
    {
     "name": "stdout",
     "output_type": "stream",
     "text": [
      "1\n"
     ]
    }
   ],
   "source": [
    "if redo_opt_output == True:\n",
    "    test_str = 'NENGREST'\n",
    "    print(phi_region.index(test_str))"
   ]
  },
  {
   "cell_type": "code",
   "execution_count": 66,
   "metadata": {},
   "outputs": [
    {
     "name": "stdout",
     "output_type": "stream",
     "text": [
      "       2016_1_0  2016_1_1  2016_1_2  2016_1_3  2016_1_4  2016_1_5  2016_1_6  \\\n",
      "0      0.000000  0.000000  0.000000  0.000000  0.000000  0.000000  0.000000   \n",
      "1      0.000000  0.000000  0.000000  0.000000  0.000000  0.000000  0.000000   \n",
      "2      0.000000  0.000000  0.000000  0.000000  0.000000  0.000000  0.000000   \n",
      "3      0.000000  0.000000  0.000000  0.000000  0.000000  0.000000  0.000000   \n",
      "4      0.000000  0.000000  0.000000  0.000000  0.000000  0.000000  0.000000   \n",
      "...         ...       ...       ...       ...       ...       ...       ...   \n",
      "16888  0.386959  0.208666  0.140663  0.386959  0.000000  0.000000  0.218033   \n",
      "16889  0.000000  0.000000  0.000000  0.000000  0.028481  0.035516  0.088073   \n",
      "16890  0.088495  0.115575  0.115575  0.024119  0.115575  0.115575  0.000000   \n",
      "16891  0.130307  0.130307  0.130307  0.130307  0.130307  0.130307  0.130307   \n",
      "16892       NaN       NaN       NaN       NaN       NaN       NaN       NaN   \n",
      "\n",
      "       2016_1_7  2016_1_8  2016_1_9  ...  2016_365_14  2016_365_15  \\\n",
      "0      0.000000  0.000000  0.000000  ...     0.000000     0.000000   \n",
      "1      0.000000  0.000000  0.000000  ...     0.000000     0.000000   \n",
      "2      0.000000  0.000000  0.000000  ...     0.000000     0.000000   \n",
      "3      0.000000  0.000000  0.000000  ...     0.000000     0.000000   \n",
      "4      0.000000  0.000000  0.000000  ...     0.000000     0.000000   \n",
      "...         ...       ...       ...  ...          ...          ...   \n",
      "16888  0.386959  0.386959  0.386959  ...     0.000000     0.000000   \n",
      "16889  0.077814  0.009171  0.088073  ...     0.000000     0.000000   \n",
      "16890  0.000000  0.115575  0.024907  ...     0.101925     0.090984   \n",
      "16891  0.130307  0.130307  0.130307  ...     0.130307     0.130307   \n",
      "16892       NaN       NaN       NaN  ...          NaN          NaN   \n",
      "\n",
      "       2016_365_16  2016_365_17  2016_365_18  2016_365_19  2016_365_20  \\\n",
      "0         0.000000     0.000000     0.000000     0.000000     0.000000   \n",
      "1         0.000000     0.000000     0.000000     0.000000     0.000000   \n",
      "2         0.000000     0.000000     0.000000     0.000000     0.000000   \n",
      "3         0.000000     0.000000     0.000000     0.000000     0.000000   \n",
      "4         0.000000     0.000000     0.000000     0.000000     0.000000   \n",
      "...            ...          ...          ...          ...          ...   \n",
      "16888     0.326812     0.146468     0.000000     0.277745     0.248282   \n",
      "16889     0.000000     0.000000     0.088073     0.088073     0.088073   \n",
      "16890     0.000000     0.115575     0.094150     0.000000     0.000000   \n",
      "16891     0.130307     0.130307     0.130307     0.130307     0.130307   \n",
      "16892          NaN          NaN          NaN          NaN          NaN   \n",
      "\n",
      "       2016_365_21  2016_365_22  2016_365_23  \n",
      "0         0.000000     0.000000     0.000000  \n",
      "1         0.000000     0.000000     0.000000  \n",
      "2         0.000000     0.000000     0.000000  \n",
      "3         0.000000     0.000000     0.000000  \n",
      "4         0.000000     0.000000     0.000000  \n",
      "...            ...          ...          ...  \n",
      "16888     0.000000     0.157627     0.157627  \n",
      "16889     0.088073     0.000000     0.000000  \n",
      "16890     0.065609     0.115575     0.115575  \n",
      "16891     0.130307     0.130307     0.130307  \n",
      "16892          NaN          NaN          NaN  \n",
      "\n",
      "[16893 rows x 8760 columns]\n",
      "no processed\n",
      "       2016_1_0  2016_1_1  2016_1_2  2016_1_3  2016_1_4  2016_1_5  2016_1_6  \\\n",
      "0      0.000000  0.000000  0.000000  0.000000  0.000000  0.000000  0.000000   \n",
      "1      0.000000  0.000000  0.000000  0.000000  0.000000  0.000000  0.000000   \n",
      "2      0.000000  0.000000  0.000000  0.000000  0.000000  0.000000  0.000000   \n",
      "3      0.000000  0.000000  0.000000  0.000000  0.000000  0.000000  0.000000   \n",
      "4      0.000000  0.000000  0.000000  0.000000  0.000000  0.000000  0.000000   \n",
      "...         ...       ...       ...       ...       ...       ...       ...   \n",
      "16888  0.111191  0.059959  0.040419  0.111191  0.000000  0.000000  0.062651   \n",
      "16889  0.000000  0.000000  0.000000  0.000000  0.007951  0.009914  0.024586   \n",
      "16890  0.043397  0.056676  0.056676  0.011828  0.056676  0.056676  0.000000   \n",
      "16891  0.007929  0.007929  0.007929  0.007929  0.007929  0.007929  0.007929   \n",
      "16892       NaN       NaN       NaN       NaN       NaN       NaN       NaN   \n",
      "\n",
      "       2016_1_7  2016_1_8  2016_1_9  ...  2016_365_14  2016_365_15  \\\n",
      "0      0.000000  0.000000  0.000000  ...     0.000000     0.000000   \n",
      "1      0.000000  0.000000  0.000000  ...     0.000000     0.000000   \n",
      "2      0.000000  0.000000  0.000000  ...     0.000000     0.000000   \n",
      "3      0.000000  0.000000  0.000000  ...     0.000000     0.000000   \n",
      "4      0.000000  0.000000  0.000000  ...     0.000000     0.000000   \n",
      "...         ...       ...       ...  ...          ...          ...   \n",
      "16888  0.111191  0.111191  0.111191  ...     0.000000     0.000000   \n",
      "16889  0.021722  0.002560  0.024586  ...     0.000000     0.000000   \n",
      "16890  0.000000  0.056676  0.012214  ...     0.049982     0.044617   \n",
      "16891  0.007929  0.007929  0.007929  ...     0.007929     0.007929   \n",
      "16892       NaN       NaN       NaN  ...          NaN          NaN   \n",
      "\n",
      "       2016_365_16  2016_365_17  2016_365_18  2016_365_19  2016_365_20  \\\n",
      "0         0.000000     0.000000     0.000000     0.000000     0.000000   \n",
      "1         0.000000     0.000000     0.000000     0.000000     0.000000   \n",
      "2         0.000000     0.000000     0.000000     0.000000     0.000000   \n",
      "3         0.000000     0.000000     0.000000     0.000000     0.000000   \n",
      "4         0.000000     0.000000     0.000000     0.000000     0.000000   \n",
      "...            ...          ...          ...          ...          ...   \n",
      "16888     0.093908     0.042087     0.000000     0.079809     0.071343   \n",
      "16889     0.000000     0.000000     0.024586     0.024586     0.024586   \n",
      "16890     0.000000     0.056676     0.046170     0.000000     0.000000   \n",
      "16891     0.007929     0.007929     0.007929     0.007929     0.007929   \n",
      "16892          NaN          NaN          NaN          NaN          NaN   \n",
      "\n",
      "       2016_365_21  2016_365_22  2016_365_23  \n",
      "0         0.000000     0.000000     0.000000  \n",
      "1         0.000000     0.000000     0.000000  \n",
      "2         0.000000     0.000000     0.000000  \n",
      "3         0.000000     0.000000     0.000000  \n",
      "4         0.000000     0.000000     0.000000  \n",
      "...            ...          ...          ...  \n",
      "16888     0.000000     0.045293     0.045293  \n",
      "16889     0.024586     0.000000     0.000000  \n",
      "16890     0.032173     0.056676     0.056676  \n",
      "16891     0.007929     0.007929     0.007929  \n",
      "16892          NaN          NaN          NaN  \n",
      "\n",
      "[16893 rows x 8760 columns]\n",
      "so2 processed\n",
      "       2016_1_0  2016_1_1  2016_1_2  2016_1_3  2016_1_4  2016_1_5  2016_1_6  \\\n",
      "0      0.000000  0.000000  0.000000  0.000000  0.000000  0.000000  0.000000   \n",
      "1      0.000000  0.000000  0.000000  0.000000  0.000000  0.000000  0.000000   \n",
      "2      0.000000  0.000000  0.000000  0.000000  0.000000  0.000000  0.000000   \n",
      "3      0.000000  0.000000  0.000000  0.000000  0.000000  0.000000  0.000000   \n",
      "4      0.000000  0.000000  0.000000  0.000000  0.000000  0.000000  0.000000   \n",
      "...         ...       ...       ...       ...       ...       ...       ...   \n",
      "16888  0.386959  0.208666  0.140663  0.386959  0.000000  0.000000  0.218033   \n",
      "16889  0.000000  0.000000  0.000000  0.000000  0.028481  0.035516  0.088073   \n",
      "16890  0.088495  0.115575  0.115575  0.024119  0.115575  0.115575  0.000000   \n",
      "16891  0.130307  0.130307  0.130307  0.130307  0.130307  0.130307  0.130307   \n",
      "16892       NaN       NaN       NaN       NaN       NaN       NaN       NaN   \n",
      "\n",
      "       2016_1_7  2016_1_8  2016_1_9  ...  2016_365_14  2016_365_15  \\\n",
      "0      0.000000  0.000000  0.000000  ...     0.000000     0.000000   \n",
      "1      0.000000  0.000000  0.000000  ...     0.000000     0.000000   \n",
      "2      0.000000  0.000000  0.000000  ...     0.000000     0.000000   \n",
      "3      0.000000  0.000000  0.000000  ...     0.000000     0.000000   \n",
      "4      0.000000  0.000000  0.000000  ...     0.000000     0.000000   \n",
      "...         ...       ...       ...  ...          ...          ...   \n",
      "16888  0.386959  0.386959  0.386959  ...     0.000000     0.000000   \n",
      "16889  0.077814  0.009171  0.088073  ...     0.000000     0.000000   \n",
      "16890  0.000000  0.115575  0.024907  ...     0.101925     0.090984   \n",
      "16891  0.130307  0.130307  0.130307  ...     0.130307     0.130307   \n",
      "16892       NaN       NaN       NaN  ...          NaN          NaN   \n",
      "\n",
      "       2016_365_16  2016_365_17  2016_365_18  2016_365_19  2016_365_20  \\\n",
      "0         0.000000     0.000000     0.000000     0.000000     0.000000   \n",
      "1         0.000000     0.000000     0.000000     0.000000     0.000000   \n",
      "2         0.000000     0.000000     0.000000     0.000000     0.000000   \n",
      "3         0.000000     0.000000     0.000000     0.000000     0.000000   \n",
      "4         0.000000     0.000000     0.000000     0.000000     0.000000   \n",
      "...            ...          ...          ...          ...          ...   \n",
      "16888     0.326812     0.146468     0.000000     0.277745     0.248282   \n",
      "16889     0.000000     0.000000     0.088073     0.088073     0.088073   \n",
      "16890     0.000000     0.115575     0.094150     0.000000     0.000000   \n",
      "16891     0.130307     0.130307     0.130307     0.130307     0.130307   \n",
      "16892          NaN          NaN          NaN          NaN          NaN   \n",
      "\n",
      "       2016_365_21  2016_365_22  2016_365_23  \n",
      "0         0.000000     0.000000     0.000000  \n",
      "1         0.000000     0.000000     0.000000  \n",
      "2         0.000000     0.000000     0.000000  \n",
      "3         0.000000     0.000000     0.000000  \n",
      "4         0.000000     0.000000     0.000000  \n",
      "...            ...          ...          ...  \n",
      "16888     0.000000     0.157627     0.157627  \n",
      "16889     0.088073     0.000000     0.000000  \n",
      "16890     0.065609     0.115575     0.115575  \n",
      "16891     0.130307     0.130307     0.130307  \n",
      "16892          NaN          NaN          NaN  \n",
      "\n",
      "[16893 rows x 8760 columns]\n",
      "no2 processed\n"
     ]
    }
   ],
   "source": [
    "if redo_opt_output == True:\n",
    "    # Process emissions for each species\n",
    "    no = process_emissions(species_abbrev = 'NOX', NO = True, NO2 = False)\n",
    "    print('no processed')\n",
    "\n",
    "    so2 = process_emissions(species_abbrev = 'SO2')\n",
    "    print('so2 processed')\n",
    "    \n",
    "    no2 = process_emissions(species_abbrev = 'NOX', NO = False, NO2 = True)\n",
    "    print('no2 processed')"
   ]
  },
  {
   "cell_type": "code",
   "execution_count": 67,
   "metadata": {},
   "outputs": [
    {
     "name": "stdout",
     "output_type": "stream",
     "text": [
      "(16893, 8763)\n",
      "(796, 8760)\n"
     ]
    }
   ],
   "source": [
    "if redo_opt_output == True:\n",
    "    # reshape NO\n",
    "    print(np.shape(no))\n",
    "    no_new = no.iloc[:, :8760].fillna(0)\n",
    "    no_new = no_new[(no_new != 0).any(axis=1)]\n",
    "    print(np.shape(no_new))"
   ]
  },
  {
   "cell_type": "code",
   "execution_count": 74,
   "metadata": {},
   "outputs": [
    {
     "name": "stdout",
     "output_type": "stream",
     "text": [
      "NO annual emissions: 319.997073379385 Mg/yr\n"
     ]
    }
   ],
   "source": [
    "if redo_opt_output == True:\n",
    "    # sum NO\n",
    "    emis_tot_NO = np.sum(no_new.values)*3600/1000 # Mg/yr, sum cell values\n",
    "    print('NO annual emissions:',emis_tot_NO, 'Mg/yr')\n",
    "else:\n",
    "    emis_tot_NO = np.sum(ds['NO'].values)*cell_size/1000 # Mg/yr\n",
    "    print('NO annual emissions:',emis_tot_NO, 'Mg/yr')"
   ]
  },
  {
   "cell_type": "code",
   "execution_count": 69,
   "metadata": {},
   "outputs": [
    {
     "name": "stdout",
     "output_type": "stream",
     "text": [
      "(16893, 8763)\n",
      "(796, 8760)\n"
     ]
    }
   ],
   "source": [
    "if redo_opt_output == True:\n",
    "    # reshape NO2\n",
    "    print(np.shape(no2))\n",
    "    no2_new = no2.iloc[:, :8760].fillna(0)\n",
    "    no2_new = no2_new[(no2_new != 0).any(axis=1)]\n",
    "    no2_new = no2_new\n",
    "    print(np.shape(no2_new))"
   ]
  },
  {
   "cell_type": "code",
   "execution_count": 75,
   "metadata": {},
   "outputs": [
    {
     "name": "stdout",
     "output_type": "stream",
     "text": [
      "NO2 annual emissions: 54.518011031685816 Mg/yr\n"
     ]
    }
   ],
   "source": [
    "if redo_opt_output == True:\n",
    "    # reshape NO2\n",
    "    emis_tot_NO2 = np.sum(no2_new.values)*3600/1000 # Mg/yr, sum cell values\n",
    "    print('NO2 annual emissions:',emis_tot_NO2, 'Mg/yr')\n",
    "else:\n",
    "    emis_tot_NO2 = np.sum(ds['NO2'].values)*cell_size/1000 # Mg/yr\n",
    "    print('NO2 annual emissions:',emis_tot_NO2, 'Mg/yr')"
   ]
  },
  {
   "cell_type": "code",
   "execution_count": 71,
   "metadata": {},
   "outputs": [
    {
     "name": "stdout",
     "output_type": "stream",
     "text": [
      "(16893, 8763)\n",
      "(795, 8760)\n"
     ]
    }
   ],
   "source": [
    "if redo_opt_output == True:\n",
    "    # reshape SO2\n",
    "    print(np.shape(so2))\n",
    "\n",
    "    so2_new = so2.iloc[:, :8760].fillna(0)\n",
    "    so2_new = so2_new[(so2_new != 0).any(axis=1)]\n",
    "    print(np.shape(so2_new))"
   ]
  },
  {
   "cell_type": "code",
   "execution_count": 76,
   "metadata": {},
   "outputs": [
    {
     "name": "stdout",
     "output_type": "stream",
     "text": [
      "SO2 annual emissions: 108.88799167475419 Mg/yr\n"
     ]
    }
   ],
   "source": [
    "if redo_opt_output == True:\n",
    "    # sum SO2\n",
    "    emis_tot_SO2 = np.sum(so2_new.values)*3600/1000 # Mg/yr, sum cell values\n",
    "    print('SO2 annual emissions:',emis_tot_SO2, 'Mg/yr')\n",
    "else:\n",
    "    emis_tot_SO2 = np.sum(ds['SO2'].values)*cell_size/1000 # Mg/yr\n",
    "    print('SO2 annual emissions:',emis_tot_SO2, 'Mg/yr')"
   ]
  },
  {
   "cell_type": "code",
   "execution_count": 73,
   "metadata": {},
   "outputs": [],
   "source": [
    "# store values from previous run\n",
    "# NO  = 746 Mg/yr\n",
    "# NO2 = 109 Mg/yr\n",
    "# SO2 = 478 Mg/yr"
   ]
  },
  {
   "cell_type": "code",
   "execution_count": null,
   "metadata": {},
   "outputs": [],
   "source": []
  },
  {
   "cell_type": "code",
   "execution_count": null,
   "metadata": {},
   "outputs": [],
   "source": []
  },
  {
   "cell_type": "code",
   "execution_count": null,
   "metadata": {},
   "outputs": [],
   "source": []
  },
  {
   "cell_type": "code",
   "execution_count": null,
   "metadata": {},
   "outputs": [],
   "source": []
  },
  {
   "cell_type": "code",
   "execution_count": null,
   "metadata": {},
   "outputs": [],
   "source": []
  },
  {
   "cell_type": "code",
   "execution_count": null,
   "metadata": {},
   "outputs": [],
   "source": []
  },
  {
   "cell_type": "code",
   "execution_count": null,
   "metadata": {},
   "outputs": [],
   "source": []
  }
 ],
 "metadata": {
  "kernelspec": {
   "display_name": "usego_nb",
   "language": "python",
   "name": "usego_nb"
  },
  "language_info": {
   "codemirror_mode": {
    "name": "ipython",
    "version": 3
   },
   "file_extension": ".py",
   "mimetype": "text/x-python",
   "name": "python",
   "nbconvert_exporter": "python",
   "pygments_lexer": "ipython3",
   "version": "3.13.2"
  }
 },
 "nbformat": 4,
 "nbformat_minor": 4
}
